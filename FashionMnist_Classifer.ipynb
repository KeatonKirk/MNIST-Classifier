{
  "nbformat": 4,
  "nbformat_minor": 0,
  "metadata": {
    "colab": {
      "provenance": [],
      "gpuType": "T4"
    },
    "kernelspec": {
      "name": "python3",
      "display_name": "Python 3"
    },
    "language_info": {
      "name": "python"
    },
    "accelerator": "GPU"
  },
  "cells": [
    {
      "cell_type": "code",
      "execution_count": 1,
      "metadata": {
        "id": "oL09XkbbhdQS"
      },
      "outputs": [],
      "source": [
        "import math\n",
        "import random\n",
        "from shutil import move\n",
        "import torch\n",
        "import torch.nn as nn\n",
        "from torch.utils.data import Dataset, DataLoader, random_split\n",
        "from torchvision import datasets, transforms\n",
        "from torchvision.transforms import ToTensor\n",
        "import matplotlib.pyplot as plt"
      ]
    },
    {
      "cell_type": "code",
      "source": [
        "# Initializing Training data\n",
        "\n",
        "transform = transforms.Compose([transforms.ToTensor(), transforms.Normalize((0.5), (0.5)), transforms.RandomHorizontalFlip()])\n",
        "\n",
        "full_dataset = datasets.FashionMNIST(\n",
        "   root = 'data',\n",
        "   train = True,\n",
        "   download = True,\n",
        "   transform = transform\n",
        ")\n",
        "\n",
        "labels_map = {\n",
        "    0: 'T-Shirt',\n",
        "    1: 'Trouser',\n",
        "    2: 'Pullover',\n",
        "    3: 'Dress',\n",
        "    4: 'Coat',\n",
        "    5: 'Sandal',\n",
        "    6: 'Shirt',\n",
        "    7: 'Sneaker',\n",
        "    8: 'Bag',\n",
        "    9: 'Ankle Boot'\n",
        "}\n",
        "\n",
        "# split out training, test, and validation datasets\n",
        "train, test, valid = random_split(full_dataset, [48000, 6000, 6000 ])\n",
        "\n",
        "# initialize dataloaders for training and testing\n",
        "\n",
        "training_loader = torch.utils.data.DataLoader(train, batch_size=5, shuffle=True)\n",
        "valid_loader = torch.utils.data.DataLoader(valid, batch_size=5, shuffle=False)\n",
        "test_loader = torch.utils.data.DataLoader(test, batch_size=5, shuffle=False)\n",
        "\n"
      ],
      "metadata": {
        "id": "tQDZTr4fhkU4",
        "colab": {
          "base_uri": "https://localhost:8080/"
        },
        "outputId": "39f7254d-597a-4aa2-c06a-3e3595c5c48c"
      },
      "execution_count": 2,
      "outputs": [
        {
          "output_type": "stream",
          "name": "stdout",
          "text": [
            "Downloading http://fashion-mnist.s3-website.eu-central-1.amazonaws.com/train-images-idx3-ubyte.gz\n",
            "Downloading http://fashion-mnist.s3-website.eu-central-1.amazonaws.com/train-images-idx3-ubyte.gz to data/FashionMNIST/raw/train-images-idx3-ubyte.gz\n"
          ]
        },
        {
          "output_type": "stream",
          "name": "stderr",
          "text": [
            "100%|██████████| 26421880/26421880 [00:01<00:00, 15624705.70it/s]\n"
          ]
        },
        {
          "output_type": "stream",
          "name": "stdout",
          "text": [
            "Extracting data/FashionMNIST/raw/train-images-idx3-ubyte.gz to data/FashionMNIST/raw\n",
            "\n",
            "Downloading http://fashion-mnist.s3-website.eu-central-1.amazonaws.com/train-labels-idx1-ubyte.gz\n",
            "Downloading http://fashion-mnist.s3-website.eu-central-1.amazonaws.com/train-labels-idx1-ubyte.gz to data/FashionMNIST/raw/train-labels-idx1-ubyte.gz\n"
          ]
        },
        {
          "output_type": "stream",
          "name": "stderr",
          "text": [
            "100%|██████████| 29515/29515 [00:00<00:00, 305566.03it/s]\n"
          ]
        },
        {
          "output_type": "stream",
          "name": "stdout",
          "text": [
            "Extracting data/FashionMNIST/raw/train-labels-idx1-ubyte.gz to data/FashionMNIST/raw\n",
            "\n",
            "Downloading http://fashion-mnist.s3-website.eu-central-1.amazonaws.com/t10k-images-idx3-ubyte.gz\n",
            "Downloading http://fashion-mnist.s3-website.eu-central-1.amazonaws.com/t10k-images-idx3-ubyte.gz to data/FashionMNIST/raw/t10k-images-idx3-ubyte.gz\n"
          ]
        },
        {
          "output_type": "stream",
          "name": "stderr",
          "text": [
            "100%|██████████| 4422102/4422102 [00:00<00:00, 5472345.68it/s]\n"
          ]
        },
        {
          "output_type": "stream",
          "name": "stdout",
          "text": [
            "Extracting data/FashionMNIST/raw/t10k-images-idx3-ubyte.gz to data/FashionMNIST/raw\n",
            "\n",
            "Downloading http://fashion-mnist.s3-website.eu-central-1.amazonaws.com/t10k-labels-idx1-ubyte.gz\n",
            "Downloading http://fashion-mnist.s3-website.eu-central-1.amazonaws.com/t10k-labels-idx1-ubyte.gz to data/FashionMNIST/raw/t10k-labels-idx1-ubyte.gz\n"
          ]
        },
        {
          "output_type": "stream",
          "name": "stderr",
          "text": [
            "100%|██████████| 5148/5148 [00:00<00:00, 19382654.39it/s]\n"
          ]
        },
        {
          "output_type": "stream",
          "name": "stdout",
          "text": [
            "Extracting data/FashionMNIST/raw/t10k-labels-idx1-ubyte.gz to data/FashionMNIST/raw\n",
            "\n"
          ]
        }
      ]
    },
    {
      "cell_type": "code",
      "source": [
        "# viewing training loader sample\n",
        "train_features, train_labels = next(iter(training_loader))\n",
        "img = train_features[4].squeeze()\n",
        "label = train_labels[4]\n",
        "plt.imshow(img, cmap=\"gray\")\n",
        "plt.show()\n",
        "print(f\"Label: {label}\")"
      ],
      "metadata": {
        "colab": {
          "base_uri": "https://localhost:8080/",
          "height": 447
        },
        "id": "hFrrcG1kiEf7",
        "outputId": "a2b768dd-5221-41a6-df2c-2d214ddcd631"
      },
      "execution_count": 3,
      "outputs": [
        {
          "output_type": "display_data",
          "data": {
            "text/plain": [
              "<Figure size 640x480 with 1 Axes>"
            ],
            "image/png": "[encoded data removed]"
          },
          "metadata": {}
        },
        {
          "output_type": "stream",
          "name": "stdout",
          "text": [
            "Label: 9\n"
          ]
        }
      ]
    },
    {
      "cell_type": "code",
      "source": [
        "# viewing validation loader sample\n",
        "valid_features, valid_labels = next(iter(valid_loader))\n",
        "img = valid_features[4].squeeze()\n",
        "label = valid_labels[4]\n",
        "plt.imshow(img, cmap=\"gray\")\n",
        "plt.show()\n",
        "print(f\"Label: {label}\")"
      ],
      "metadata": {
        "colab": {
          "base_uri": "https://localhost:8080/",
          "height": 447
        },
        "id": "kwsPEnz9Ssv8",
        "outputId": "3452a0f9-1187-42c9-ee53-8edc3c4ff9b0"
      },
      "execution_count": 4,
      "outputs": [
        {
          "output_type": "display_data",
          "data": {
            "text/plain": [
              "<Figure size 640x480 with 1 Axes>"
            ],
            "image/png": "[encoded data removed]"
          },
          "metadata": {}
        },
        {
          "output_type": "stream",
          "name": "stdout",
          "text": [
            "Label: 0\n"
          ]
        }
      ]
    },
    {
      "cell_type": "code",
      "source": [
        "# viewing test loader sample\n",
        "test_features, test_labels = next(iter(test_loader))\n",
        "img = test_features[4].squeeze()\n",
        "label = test_labels[4]\n",
        "plt.imshow(img, cmap=\"gray\")\n",
        "plt.show()\n",
        "print(f\"Label: {label}\")"
      ],
      "metadata": {
        "colab": {
          "base_uri": "https://localhost:8080/",
          "height": 447
        },
        "id": "9BSaz6AaSw7K",
        "outputId": "944be92d-46f4-444a-d32c-dcad3a6ac08e"
      },
      "execution_count": 5,
      "outputs": [
        {
          "output_type": "display_data",
          "data": {
            "text/plain": [
              "<Figure size 640x480 with 1 Axes>"
            ],
            "image/png": "[encoded data removed]"
          },
          "metadata": {}
        },
        {
          "output_type": "stream",
          "name": "stdout",
          "text": [
            "Label: 2\n"
          ]
        }
      ]
    },
    {
      "cell_type": "code",
      "source": [
        "# take a look at the full full dataset\n",
        "figure = plt.figure(figsize=(8,8))\n",
        "cols, rows = 3, 3\n",
        "for i in range(1, cols * rows + 1):\n",
        "  sample_idx = torch.randint(len(full_dataset), size=(1,)).item()\n",
        "  img, label = full_dataset[sample_idx]\n",
        "  figure.add_subplot(rows, cols, i)\n",
        "  plt.title(labels_map[label])\n",
        "  plt.axis(\"off\")\n",
        "  plt.imshow(img.squeeze(), cmap='gray')\n",
        "plt.show"
      ],
      "metadata": {
        "colab": {
          "base_uri": "https://localhost:8080/",
          "height": 845
        },
        "id": "awMZRCCPiti-",
        "outputId": "cb4f2932-42e2-4f92-9c52-94d380b8524d"
      },
      "execution_count": 6,
      "outputs": [
        {
          "output_type": "execute_result",
          "data": {
            "text/plain": [
              "<function matplotlib.pyplot.show(close=None, block=None)>"
            ],
            "text/html": [
              "<div style=\"max-width:800px; border: 1px solid var(--colab-border-color);\"><style>\n",
              "      pre.function-repr-contents {\n",
              "        overflow-x: auto;\n",
              "        padding: 8px 12px;\n",
              "        max-height: 500px;\n",
              "      }\n",
              "\n",
              "      pre.function-repr-contents.function-repr-contents-collapsed {\n",
              "        cursor: pointer;\n",
              "        max-height: 100px;\n",
              "      }\n",
              "    </style>\n",
              "    <pre style=\"white-space: initial; background:\n",
              "         var(--colab-secondary-surface-color); padding: 8px 12px;\n",
              "         border-bottom: 1px solid var(--colab-border-color);\"><b>matplotlib.pyplot.show</b><br/>def show(*args, **kwargs)</pre><pre class=\"function-repr-contents function-repr-contents-collapsed\" style=\"\"><a class=\"filepath\" style=\"display:none\" href=\"#\">/usr/local/lib/python3.10/dist-packages/matplotlib/pyplot.py</a>Display all open figures.\n",
              "\n",
              "Parameters\n",
              "----------\n",
              "block : bool, optional\n",
              "    Whether to wait for all figures to be closed before returning.\n",
              "\n",
              "    If `True` block and run the GUI main loop until all figure windows\n",
              "    are closed.\n",
              "\n",
              "    If `False` ensure that all figure windows are displayed and return\n",
              "    immediately.  In this case, you are responsible for ensuring\n",
              "    that the event loop is running to have responsive figures.\n",
              "\n",
              "    Defaults to True in non-interactive mode and to False in interactive\n",
              "    mode (see `.pyplot.isinteractive`).\n",
              "\n",
              "See Also\n",
              "--------\n",
              "ion : Enable interactive mode, which shows / updates the figure after\n",
              "      every plotting command, so that calling ``show()`` is not necessary.\n",
              "ioff : Disable interactive mode.\n",
              "savefig : Save the figure to an image file instead of showing it on screen.\n",
              "\n",
              "Notes\n",
              "-----\n",
              "**Saving figures to file and showing a window at the same time**\n",
              "\n",
              "If you want an image file as well as a user interface window, use\n",
              "`.pyplot.savefig` before `.pyplot.show`. At the end of (a blocking)\n",
              "``show()`` the figure is closed and thus unregistered from pyplot. Calling\n",
              "`.pyplot.savefig` afterwards would save a new and thus empty figure. This\n",
              "limitation of command order does not apply if the show is non-blocking or\n",
              "if you keep a reference to the figure and use `.Figure.savefig`.\n",
              "\n",
              "**Auto-show in jupyter notebooks**\n",
              "\n",
              "The jupyter backends (activated via ``%matplotlib inline``,\n",
              "``%matplotlib notebook``, or ``%matplotlib widget``), call ``show()`` at\n",
              "the end of every cell by default. Thus, you usually don&#x27;t have to call it\n",
              "explicitly there.</pre>\n",
              "      <script>\n",
              "      if (google.colab.kernel.accessAllowed && google.colab.files && google.colab.files.view) {\n",
              "        for (const element of document.querySelectorAll('.filepath')) {\n",
              "          element.style.display = 'block'\n",
              "          element.onclick = (event) => {\n",
              "            event.preventDefault();\n",
              "            event.stopPropagation();\n",
              "            google.colab.files.view(element.textContent, 401);\n",
              "          };\n",
              "        }\n",
              "      }\n",
              "      for (const element of document.querySelectorAll('.function-repr-contents')) {\n",
              "        element.onclick = (event) => {\n",
              "          event.preventDefault();\n",
              "          event.stopPropagation();\n",
              "          element.classList.toggle('function-repr-contents-collapsed');\n",
              "        };\n",
              "      }\n",
              "      </script>\n",
              "      </div>"
            ]
          },
          "metadata": {},
          "execution_count": 6
        },
        {
          "output_type": "display_data",
          "data": {
            "text/plain": [
              "<Figure size 800x800 with 9 Axes>"
            ],
            "image/png": "[encoded data removed]"
          },
          "metadata": {}
        }
      ]
    },
    {
      "cell_type": "code",
      "source": [
        "fashion_classifier = nn.Sequential( #\n",
        "    nn.Conv2d(1, 16, 3, 1, 1), # output feature map will be a 28*28 map with 16 features\n",
        "    nn.MaxPool2d(3, 1), # output will be a 26 * 26 feature map with 16 features\n",
        "    nn.ReLU(), # adding a Rectified Linear Unit to introduce nonlinearity to the model\n",
        "    nn.Conv2d(16, 32, 5, 1, 1), # 24 * 24 with 32 features\n",
        "    nn.MaxPool2d(5, 1), # 20 * 20 with 32 features\n",
        "    nn.ReLU(),\n",
        "    nn.Dropout(),\n",
        "    nn.Flatten(), # flattens the output from the convolutional layer so it can be fed to the linear output layer for classification\n",
        "    nn.Linear(12800, 10) # maps feature outputs from the convolutional layer to the desired classification set (i.e. which article of clothing appears in the image) using a linear equation\n",
        ")"
      ],
      "metadata": {
        "id": "1Y05uXmhonTO"
      },
      "execution_count": 7,
      "outputs": []
    },
    {
      "cell_type": "code",
      "source": [
        "optimizer = torch.optim.SGD(fashion_classifier.parameters(), lr=0.001, momentum=0.9)"
      ],
      "metadata": {
        "id": "5u_eWfeA6Vj7"
      },
      "execution_count": 8,
      "outputs": []
    },
    {
      "cell_type": "code",
      "source": [
        "loss_func = nn.CrossEntropyLoss()"
      ],
      "metadata": {
        "id": "9iT6Zkfs7hWE"
      },
      "execution_count": 9,
      "outputs": []
    },
    {
      "cell_type": "code",
      "source": [
        "# use a gpu if it's available - this makes training MUCH faster\n",
        "device = torch.device(\"cuda:0\" if torch.cuda.is_available else \"cpu\")\n",
        "fashion_classifier.to(device)"
      ],
      "metadata": {
        "colab": {
          "base_uri": "https://localhost:8080/"
        },
        "id": "Bpp83V4MtOGU",
        "outputId": "d2944efc-6058-4c94-c9c7-348520fe7004"
      },
      "execution_count": 10,
      "outputs": [
        {
          "output_type": "execute_result",
          "data": {
            "text/plain": [
              "Sequential(\n",
              "  (0): Conv2d(1, 16, kernel_size=(3, 3), stride=(1, 1), padding=(1, 1))\n",
              "  (1): MaxPool2d(kernel_size=3, stride=1, padding=0, dilation=1, ceil_mode=False)\n",
              "  (2): ReLU()\n",
              "  (3): Conv2d(16, 32, kernel_size=(5, 5), stride=(1, 1), padding=(1, 1))\n",
              "  (4): MaxPool2d(kernel_size=5, stride=1, padding=0, dilation=1, ceil_mode=False)\n",
              "  (5): ReLU()\n",
              "  (6): Dropout(p=0.5, inplace=False)\n",
              "  (7): Flatten(start_dim=1, end_dim=-1)\n",
              "  (8): Linear(in_features=12800, out_features=10, bias=True)\n",
              ")"
            ]
          },
          "metadata": {},
          "execution_count": 10
        }
      ]
    },
    {
      "cell_type": "code",
      "source": [
        "def train_loop(model, training_data, validation_data, loss_func):\n",
        "  # iterate over dataloader batches\n",
        "  model.train()\n",
        "\n",
        "  for x, y in training_data:\n",
        "    x, y = x.to(device), y.to(device)\n",
        "    optimizer.zero_grad() # zero out existing gradients\n",
        "    prediction = model(x) # make predictions\n",
        "    loss = loss_func(prediction, y) # calculate the loss\n",
        "    loss.backward() # apply backpropogation to each node / layer\n",
        "    optimizer.step() # step parameters based on calculated error gradient\n",
        "  model.eval()\n",
        "  avg_loss = []\n",
        "  for i, j in validation_data: # validator test loop - seeing how good the model performs after looping through the training set and updating weights\n",
        "    i, j = i.to(device), j.to(device)\n",
        "    validator_predictions = model(i)\n",
        "    loss = loss_func(validator_predictions, j)\n",
        "    avg_loss.append(loss)\n",
        "  loss_tensor = torch.tensor(avg_loss)\n",
        "  print('validation loss:', (loss_tensor.sum() / len(loss_tensor)))\n",
        "  return"
      ],
      "metadata": {
        "id": "1HN1feNo9Zqr"
      },
      "execution_count": 11,
      "outputs": []
    },
    {
      "cell_type": "code",
      "source": [
        "# can use this to test the train loop function\n",
        "#train_loop(fashion_classifier, training_loader, loss_func)"
      ],
      "metadata": {
        "id": "fpu2BTMcW4jZ"
      },
      "execution_count": 12,
      "outputs": []
    },
    {
      "cell_type": "code",
      "source": [
        "for i in range(0,9):\n",
        "  print('epoch', i)\n",
        "  train_loop(fashion_classifier, training_loader, valid_loader, loss_func)"
      ],
      "metadata": {
        "colab": {
          "base_uri": "https://localhost:8080/"
        },
        "id": "mUALHGsmXBx6",
        "outputId": "a4b9c877-d618-459a-d1d5-a4bd3460ea84"
      },
      "execution_count": 13,
      "outputs": [
        {
          "output_type": "stream",
          "name": "stdout",
          "text": [
            "epoch 0\n",
            "validation loss: tensor(0.3593)\n",
            "epoch 1\n",
            "validation loss: tensor(0.3027)\n",
            "epoch 2\n",
            "validation loss: tensor(0.3146)\n",
            "epoch 3\n",
            "validation loss: tensor(0.3156)\n",
            "epoch 4\n",
            "validation loss: tensor(0.2838)\n",
            "epoch 5\n",
            "validation loss: tensor(0.2953)\n",
            "epoch 6\n",
            "validation loss: tensor(0.2994)\n",
            "epoch 7\n",
            "validation loss: tensor(0.2953)\n",
            "epoch 8\n",
            "validation loss: tensor(0.2681)\n"
          ]
        }
      ]
    },
    {
      "cell_type": "code",
      "source": [
        "# I used the code below for testing predictions on individual batches, was useful for troubleshooting and debugging\n",
        "# input = next(iter(valid_loader))\n",
        "# features, label = input\n",
        "# print(input)\n",
        "# output = torch.max(fashion_classifier(input[0]), 1)\n",
        "# print(output)"
      ],
      "metadata": {
        "id": "oLRkjUiFbjFq"
      },
      "execution_count": 14,
      "outputs": []
    },
    {
      "cell_type": "code",
      "source": [
        "def accuracy_test(model, data_loader):\n",
        "  model.eval()\n",
        "  total_predictions = 0\n",
        "  correct_predictions = 0\n",
        "  for images, labels in data_loader:\n",
        "    images, labels = images.to(device), labels.to(device)\n",
        "    predictions = torch.max(model(images), 1)\n",
        "    batch_results = predictions[1] == labels\n",
        "    correct = batch_results.sum()\n",
        "    correct_predictions += correct.item()\n",
        "    total_predictions += len(images)\n",
        "  return correct_predictions / total_predictions\n",
        "accuracy_test(fashion_classifier, test_loader)"
      ],
      "metadata": {
        "id": "H-Kh67Lxd_7m",
        "colab": {
          "base_uri": "https://localhost:8080/"
        },
        "outputId": "92fc4bd2-771d-4ba9-eced-1c628c6de643"
      },
      "execution_count": 15,
      "outputs": [
        {
          "output_type": "execute_result",
          "data": {
            "text/plain": [
              "0.9025"
            ]
          },
          "metadata": {},
          "execution_count": 15
        }
      ]
    },
    {
      "cell_type": "code",
      "source": [],
      "metadata": {
        "id": "SYUywqN4Iarb"
      },
      "execution_count": 15,
      "outputs": []
    }
  ]
}